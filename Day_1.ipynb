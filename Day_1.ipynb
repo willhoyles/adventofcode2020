{
 "cells": [
  {
   "cell_type": "code",
   "execution_count": 8,
   "metadata": {},
   "outputs": [],
   "source": [
    "import pandas as pd\n",
    "import matplotlib.pyplot as plt\n",
    "import numpy as np"
   ]
  },
  {
   "cell_type": "code",
   "execution_count": 9,
   "metadata": {},
   "outputs": [],
   "source": [
    "expenses = pd.read_csv(\"expenses.csv\")"
   ]
  },
  {
   "cell_type": "code",
   "execution_count": 27,
   "metadata": {},
   "outputs": [
    {
     "name": "stdout",
     "output_type": "stream",
     "text": [
      "1743\n",
      "277\n",
      "482811\n",
      "277\n",
      "1743\n",
      "482811\n"
     ]
    }
   ],
   "source": [
    "for i in expenses[\"Expense\"]:\n",
    "    exp1 = i\n",
    "    for j in expenses[\"Expense\"]:\n",
    "        exp2 = j\n",
    "        if exp1 + exp2 == 2020:\n",
    "            print(exp1)\n",
    "            print(exp2)\n",
    "            print(exp1*exp2)\n"
   ]
  },
  {
   "cell_type": "code",
   "execution_count": 30,
   "metadata": {},
   "outputs": [
    {
     "name": "stdout",
     "output_type": "stream",
     "text": [
      "1067\n",
      "691\n",
      "262\n",
      "193171814\n",
      "1067\n",
      "262\n",
      "691\n",
      "193171814\n",
      "691\n",
      "1067\n",
      "262\n",
      "193171814\n",
      "691\n",
      "262\n",
      "1067\n",
      "193171814\n",
      "262\n",
      "1067\n",
      "691\n",
      "193171814\n",
      "262\n",
      "691\n",
      "1067\n",
      "193171814\n"
     ]
    }
   ],
   "source": [
    "for i in expenses[\"Expense\"]:\n",
    "    exp1 = i\n",
    "    for j in expenses[\"Expense\"]:\n",
    "        exp2 = j\n",
    "        for k in expenses[\"Expense\"]:\n",
    "            exp3 = k\n",
    "            if exp1 + exp2 + exp3 == 2020:\n",
    "                print(exp1)\n",
    "                print(exp2)\n",
    "                print(exp3)\n",
    "                print(exp1*exp2*exp3)\n",
    "                break"
   ]
  }
 ],
 "metadata": {
  "kernelspec": {
   "display_name": "Python 3",
   "language": "python",
   "name": "python3"
  },
  "language_info": {
   "codemirror_mode": {
    "name": "ipython",
    "version": 3
   },
   "file_extension": ".py",
   "mimetype": "text/x-python",
   "name": "python",
   "nbconvert_exporter": "python",
   "pygments_lexer": "ipython3",
   "version": "3.8.3"
  }
 },
 "nbformat": 4,
 "nbformat_minor": 4
}
