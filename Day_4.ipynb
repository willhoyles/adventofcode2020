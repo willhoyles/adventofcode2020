{
 "cells": [
  {
   "cell_type": "code",
   "execution_count": 1,
   "metadata": {},
   "outputs": [],
   "source": [
    "import pandas as pd\n",
    "passports = open(\"passport.txt\")"
   ]
  },
  {
   "cell_type": "code",
   "execution_count": 2,
   "metadata": {},
   "outputs": [],
   "source": [
    "#read each set off passport details as a new element in a list\n",
    "passport_list = []\n",
    "this_passport = \"\"\n",
    "for line in passports:\n",
    "    if line.isspace():\n",
    "        passport_list.append(this_passport.strip())\n",
    "        this_passport = \"\"\n",
    "    else:\n",
    "        this_passport = this_passport + \" \" + line.rstrip()\n",
    "#adds the last passport in the list\n",
    "passport_list.append(this_passport.strip())"
   ]
  },
  {
   "cell_type": "code",
   "execution_count": 3,
   "metadata": {},
   "outputs": [],
   "source": [
    "#split each passport into a list of its fields\n",
    "passport_list_split = []\n",
    "for i in passport_list:\n",
    "    passport_list_split.append(i.split())"
   ]
  },
  {
   "cell_type": "code",
   "execution_count": 4,
   "metadata": {},
   "outputs": [],
   "source": [
    "#create a dataframe to hold all the passport details\n",
    "passportDF = pd.DataFrame()"
   ]
  },
  {
   "cell_type": "code",
   "execution_count": 5,
   "metadata": {},
   "outputs": [],
   "source": [
    "#create a dictionary of the passport values\n",
    "passport_dict = {}\n",
    "for i in passport_list_split:\n",
    "    for j in i:\n",
    "        element = j.split(\":\")\n",
    "        passport_dict[element[0]] = element[1]\n",
    "    passportDF = passportDF.append(passport_dict, ignore_index=True)\n",
    "    passport_dict = {}"
   ]
  },
  {
   "cell_type": "code",
   "execution_count": 6,
   "metadata": {},
   "outputs": [
    {
     "name": "stdout",
     "output_type": "stream",
     "text": [
      "     byr      ecl   eyr      hcl    hgt   iyr        pid  cid\n",
      "0   1939      hzl  2027  #602927  186cm  2019  552194973  NaN\n",
      "1   1996      brn  2020  #866857  164cm  2015  657988073  NaN\n",
      "2   1951      brn  2022  #fffffd   62in  2017    #6ef4e1  321\n",
      "3   1980      brn  2025  #fffffd  150cm  2011  420023864  129\n",
      "4   1925      amb  2029  #ceb3a1  187cm  2016  223151011  NaN\n",
      "5   1959      brn  2022  #cfa07d  190cm  2010  135392110  NaN\n",
      "6   1961      grn  2024  #a97842    NaN  2018  522856696  225\n",
      "7   1964      brn  2024  #866857  190cm  1976  562135232  NaN\n",
      "8   1936  #3b8ed3  2022        z  193cm  2011    #6e4342  296\n",
      "9   1985      gry  2023  #efcc98    NaN  2014  503255860  154\n",
      "10  1986      amb  2026  #341e13  154cm  2012  631051435  NaN\n",
      "11  1984      brn  2035  #623a2f  155cm  2019  318048681  179\n",
      "12  1969      amb  2024  #733820  189cm  2013  185953891  NaN\n",
      "13  2012  #38f2a6  2021  #cfa07d   61cm  2013   33668114  NaN\n",
      "14  2013  #1d136d  2024   4946ca    189  2019   47030948   51\n",
      "15  1935      grn  2020  #c0946f  162cm  2011  883047970   51\n",
      "16  1942      blu  2020  #623a2f  155cm  2018  013760919  221\n",
      "17  2000      amb  2030  #7d3b0c  152cm  1986   29797863  NaN\n",
      "18  1995      brn  2023  #fffffd  176cm  2013  546676799  NaN\n",
      "19  1955      oth  2028      NaN    NaN  2015  634493767  NaN\n",
      "20  2002      oth  2027  #7d3b0c  174cm  2020  893757190  150\n",
      "21  1978      blu  2029  #efcc98   66in  2012  790648045  256\n",
      "22  1945      hzl  2027  #0eeb2d  155cm  2020  048725571  209\n",
      "23  2000      oth  2023  #cfa07d  162cm  2011  381372526  NaN\n",
      "24  1994      blu  2030  #602927  171cm  2018  544462408  NaN\n",
      "25  1962      hzl  2025  #733820  187cm  2011  533405863  266\n",
      "26  1975      oth  2029  #b6652a  155cm  2019  967013712  NaN\n",
      "27  1982      amb  2022  #b6652a  190cm  2010  052112145  NaN\n",
      "28  1950      hzl  2030  #b6652a  183cm  2012  946714779  NaN\n",
      "29  1993      gry  2027  #ceb3a1   70in  2018  686010502  103\n",
      "30  1976      gry  2030  #733820  157cm  2012        NaN  NaN\n",
      "31  1955      hzl  2022  #6b5442  180cm  2017  732940101  NaN\n",
      "32  1924      oth  2024  #18171d  188cm  2010  905274031  299\n",
      "33  1999      gry  2024  #7f450a  174cm  2013  021076124  NaN\n",
      "34  1940      oth  2026  #866857  176cm  2016  398320693  NaN\n",
      "35   NaN  #a0c290  2020  #733820  172cm  1931      158cm  NaN\n",
      "36  1990      blu  2025  #341e13  182cm  2018  444561212  NaN\n",
      "37  1976      oth  2023  #602927  165cm   NaN  240732315  NaN\n",
      "38  1967      brn  2021  #733820  153cm  2016  377612846  NaN\n",
      "39  1925      blu  2030  #733820  187cm  2018  207103786  114\n",
      "40   NaN      blu  2025      NaN  184cm  2018  361909532  111\n",
      "41  1968      grn  2026  #7d3b0c  184cm  2019  381103495  NaN\n",
      "42  1945      NaN  2020  #01adfd  151cm  2019  727826617  NaN\n",
      "43  1924      hzl  2029  #efcc98  171cm  2011  235809608  280\n",
      "44  1973      gry  2029  #602927  172cm  2010  599786261   97\n",
      "45  1940      oth  2027  #866857  163cm  2017  768895320  NaN\n",
      "46  1959      NaN   NaN  #6b5442  178cm  2013  823221334  NaN\n",
      "47  1945      hzl  2024  #da8af3  150cm  2014  534201972  263\n",
      "48  1994      blu  2025  #efcc98  189cm  2010  469575516  341\n",
      "49  1999      NaN  2024  #888785   60in  2015  797138561  167\n"
     ]
    },
    {
     "data": {
      "text/plain": [
       "<bound method DataFrame.info of       byr  ecl   eyr      hcl    hgt   iyr         pid  cid\n",
       "0    1939  hzl  2027  #602927  186cm  2019   552194973  NaN\n",
       "1    1996  brn  2020  #866857  164cm  2015   657988073  NaN\n",
       "2    1951  brn  2022  #fffffd   62in  2017     #6ef4e1  321\n",
       "3    1980  brn  2025  #fffffd  150cm  2011   420023864  129\n",
       "4    1925  amb  2029  #ceb3a1  187cm  2016   223151011  NaN\n",
       "..    ...  ...   ...      ...    ...   ...         ...  ...\n",
       "286  1967  gmt  2033      NaN   59cm  2021  2498700612  NaN\n",
       "287  1953  oth   NaN  #b6652a    NaN  2013   442586860  NaN\n",
       "288  1967  oth  2022  #866857  151cm  2017   095687847  NaN\n",
       "289  1991  hzl  2024  #866857   61cm  1930   983640144  NaN\n",
       "290  1992  oth  2025  #602927  151cm  2013   812583062  NaN\n",
       "\n",
       "[291 rows x 8 columns]>"
      ]
     },
     "execution_count": 6,
     "metadata": {},
     "output_type": "execute_result"
    }
   ],
   "source": [
    "##check the input\n",
    "print(passportDF.head(50))\n",
    "passportDF.info"
   ]
  },
  {
   "cell_type": "code",
   "execution_count": 7,
   "metadata": {},
   "outputs": [],
   "source": [
    "##create a list of passports with data in all relevant fields\n",
    "valid_passports = passportDF.loc[(passportDF[\"byr\"].notnull()) & (passportDF[\"ecl\"].notnull()) & (passportDF[\"ecl\"].notnull()) & (passportDF[\"eyr\"].notnull()) & (passportDF[\"hcl\"].notnull()) & (passportDF[\"hgt\"].notnull()) & (passportDF[\"iyr\"].notnull()) & (passportDF[\"pid\"].notnull())]"
   ]
  },
  {
   "cell_type": "code",
   "execution_count": 8,
   "metadata": {},
   "outputs": [
    {
     "name": "stdout",
     "output_type": "stream",
     "text": [
      "235\n"
     ]
    }
   ],
   "source": [
    "print(len(valid_passports))"
   ]
  },
  {
   "cell_type": "code",
   "execution_count": 12,
   "metadata": {},
   "outputs": [],
   "source": [
    "valid_eyes = [\"amb\", \"blu\", \"brn\", \"gry\", \"grn\", \"hzl\", \"oth\"]\n",
    "\n",
    "valid_entry_passports = valid_passports.loc[(passportDF[\"byr\"].astype(\"float\") >= 1920) & (passportDF[\"byr\"].astype(\"float\") <= 2002) &\n",
    "                                            (passportDF[\"ecl\"].isin(valid_eyes)) &\n",
    "                                            (passportDF[\"eyr\"].astype(\"float\") >= 2020) & (passportDF[\"eyr\"].astype(\"float\") <= 2030) &\n",
    "                                            (passportDF[\"hcl\"].str.contains(r\"[#][a-f0-9]{6}\\b\")) & \n",
    "                                            (passportDF[\"hgt\"].str.contains(r\"[1][5-8][0-9][c][m]\\b|[1][9][0-3][c][m]\\b|[5][9][i][n]\\b|[67][0-9][i][n]\")) &\n",
    "                                            (passportDF[\"iyr\"].astype(\"float\") >= 2010) & (passportDF[\"iyr\"].astype(\"float\") <= 2020) &\n",
    "                                            (passportDF[\"pid\"].str.contains(r\"\\b[0-9]{9}\\b\"))]"
   ]
  },
  {
   "cell_type": "code",
   "execution_count": 14,
   "metadata": {},
   "outputs": [
    {
     "name": "stdout",
     "output_type": "stream",
     "text": [
      "      byr  ecl   eyr      hcl    hgt   iyr        pid  cid\n",
      "0    1939  hzl  2027  #602927  186cm  2019  552194973  NaN\n",
      "1    1996  brn  2020  #866857  164cm  2015  657988073  NaN\n",
      "3    1980  brn  2025  #fffffd  150cm  2011  420023864  129\n",
      "4    1925  amb  2029  #ceb3a1  187cm  2016  223151011  NaN\n",
      "5    1959  brn  2022  #cfa07d  190cm  2010  135392110  NaN\n",
      "..    ...  ...   ...      ...    ...   ...        ...  ...\n",
      "281  1941  brn  2020  #6b5442  179cm  2015  148063033  NaN\n",
      "283  1993  amb  2023  #733820  165cm  2010  312465756  112\n",
      "285  1979  oth  2023  #623a2f  169cm  2012  809080900  291\n",
      "288  1967  oth  2022  #866857  151cm  2017  095687847  NaN\n",
      "290  1992  oth  2025  #602927  151cm  2013  812583062  NaN\n",
      "\n",
      "[194 rows x 8 columns]\n",
      "194\n"
     ]
    }
   ],
   "source": [
    "print(valid_entry_passports)\n",
    "print(len(valid_entry_passports))\n",
    "valid_entry_passports.to_csv(\"valid_passports.csv\")"
   ]
  }
 ],
 "metadata": {
  "kernelspec": {
   "display_name": "Python 3",
   "language": "python",
   "name": "python3"
  },
  "language_info": {
   "codemirror_mode": {
    "name": "ipython",
    "version": 3
   },
   "file_extension": ".py",
   "mimetype": "text/x-python",
   "name": "python",
   "nbconvert_exporter": "python",
   "pygments_lexer": "ipython3",
   "version": "3.8.3"
  }
 },
 "nbformat": 4,
 "nbformat_minor": 4
}
