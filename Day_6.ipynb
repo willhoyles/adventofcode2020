{
 "cells": [
  {
   "cell_type": "code",
   "execution_count": 15,
   "metadata": {},
   "outputs": [
    {
     "name": "stdout",
     "output_type": "stream",
     "text": [
      "6335\n"
     ]
    }
   ],
   "source": [
    "customs = open(\"customs.txt\")\n",
    "this_line = \"\"\n",
    "counts = []\n",
    "for line in customs:\n",
    "    if line == \"\\n\":\n",
    "        counts.append(len(set(this_line)))\n",
    "#         print(len(set(this_line)))\n",
    "#         print(this_line)\n",
    "        this_line = \"\"        \n",
    "    else:\n",
    "        this_line = this_line + line.rstrip()\n",
    "counts.append(len(set(this_line)))\n",
    "print(sum(counts))"
   ]
  },
  {
   "cell_type": "code",
   "execution_count": 37,
   "metadata": {
    "scrolled": true
   },
   "outputs": [
    {
     "name": "stdout",
     "output_type": "stream",
     "text": [
      "3392\n"
     ]
    }
   ],
   "source": [
    "customs = open(\"customs.txt\")\n",
    "group_counts = {}\n",
    "group_size = 0\n",
    "group_totals = []\n",
    "group_subtotal = 0\n",
    "for line in customs:\n",
    "    if line != \"\\n\":\n",
    "        line = line.rstrip()\n",
    "        group_size += 1\n",
    "        for char in line:\n",
    "            if char in group_counts:\n",
    "                group_counts[char] += 1\n",
    "            else:\n",
    "                group_counts[char] = 1\n",
    "    else:\n",
    "        for count in group_counts:\n",
    "                if group_counts[count] == group_size:\n",
    "                    group_subtotal = group_subtotal + 1\n",
    "        group_totals.append(group_subtotal)\n",
    "        group_subtotal = 0\n",
    "        group_counts = {}\n",
    "        group_size = 0\n",
    "print(sum(group_totals))"
   ]
  }
 ],
 "metadata": {
  "kernelspec": {
   "display_name": "Python 3",
   "language": "python",
   "name": "python3"
  },
  "language_info": {
   "codemirror_mode": {
    "name": "ipython",
    "version": 3
   },
   "file_extension": ".py",
   "mimetype": "text/x-python",
   "name": "python",
   "nbconvert_exporter": "python",
   "pygments_lexer": "ipython3",
   "version": "3.8.3"
  }
 },
 "nbformat": 4,
 "nbformat_minor": 4
}
